{
 "cells": [
  {
   "cell_type": "code",
   "execution_count": 4,
   "metadata": {},
   "outputs": [
    {
     "name": "stdout",
     "output_type": "stream",
     "text": [
      "/home/sheikh/Motius/Thesis/synch_signal_detection_dl/tools/sionna/examples/myTests\n"
     ]
    }
   ],
   "source": [
    "import matplotlib.pyplot as plt\n",
    "import numpy as np\n",
    "from multiprocessing.pool import Pool\n",
    "\n",
    "from collections import OrderedDict\n",
    "import sys\n",
    "import os\n",
    "print(os.getcwd())\n",
    "sys.path.insert(0, os.getcwd()+'/...') # +'/..'\n",
    "sys.path.insert(0, os.getcwd()+'/..') # +'/..'\n",
    "sys.path.insert(0, os.getcwd()+'/') # +'/..'\n",
    "from IPython.display import clear_output"
   ]
  },
  {
   "cell_type": "code",
   "execution_count": 6,
   "metadata": {},
   "outputs": [],
   "source": [
    "from sionna.mapping import Mapper\n",
    "from sionna.mapping import Constellation"
   ]
  },
  {
   "cell_type": "code",
   "execution_count": 45,
   "metadata": {},
   "outputs": [],
   "source": [
    "def generate_ieee8211_constellation(mu = 1, normalize = True, show_constellation = False):\n",
    "    assert mu in (1,2,4,6),\\\n",
    "    \"currently ony supports mu  = 1, 2, 4, and 6\"\n",
    "    if mu == 1:\n",
    "        mapping_table = {\n",
    "        (0,) : -1.+0.j,\n",
    "        (1,) :  1.+0.j\n",
    "        }\n",
    "    elif mu == 2:\n",
    "        mapping_table = {\n",
    "            (0,0) : -1.-1.j,\n",
    "            (0,1) : -1.+1.j,\n",
    "            (1,0) :  1.-1.j,\n",
    "            (1,1) :  1.+1.j\n",
    "        }\n",
    "    elif mu == 4:\n",
    "        mapping_table = {\n",
    "            (0,0,0,0) : -3.-3.j,\n",
    "            (0,0,0,1) : -3.-1.j,\n",
    "            (0,0,1,0) : -3.+3.j,\n",
    "            (0,0,1,1) : -3.+1.j,\n",
    "            (0,1,0,0) : -1.-3.j,\n",
    "            (0,1,0,1) : -1.-1.j,\n",
    "            (0,1,1,0) : -1.+3.j,\n",
    "            (0,1,1,1) : -1.+1.j,\n",
    "            (1,0,0,0) :  3.-3.j,\n",
    "            (1,0,0,1) :  3.-1.j,\n",
    "            (1,0,1,0) :  3.+3.j,\n",
    "            (1,0,1,1) :  3.+1.j,\n",
    "            (1,1,0,0) :  1.-3.j,\n",
    "            (1,1,0,1) :  1.-1.j,\n",
    "            (1,1,1,0) :  1.+3.j,\n",
    "            (1,1,1,1) :  1.+1.j\n",
    "        }\n",
    "    elif mu == 6:\n",
    "        mapping_table = {\n",
    "            (0,0,0,0,0,0)   :  -7.-7.j, \n",
    "            (0,0,0,0,0,1)   :  -7.-5.j, \n",
    "            (0,0,0,0,1,0)   :  -7.-1.j, \n",
    "            (0,0,0,0,1,1)   :  -7.-3.j, \n",
    "            (0,0,0,1,0,0)   :  -7.+7.j, \n",
    "            (0,0,0,1,0,1)   :  -7.+5.j, \n",
    "            (0,0,0,1,1,0)   :  -7.+1.j, \n",
    "            (0,0,0,1,1,1)   :  -7.+3.j, \n",
    "            (0,0,1,0,0,0)   :  -5.-7.j, \n",
    "            (0,0,1,0,0,1)   :  -5.-5.j, \n",
    "            (0,0,1,0,1,0)   :  -5.-1.j, \n",
    "            (0,0,1,0,1,1)   :  -5.-3.j, \n",
    "            (0,0,1,1,0,0)   :  -5.+7.j, \n",
    "            (0,0,1,1,0,1)   :  -5.+5.j, \n",
    "            (0,0,1,1,1,0)   :  -5.+1.j, \n",
    "            (0,0,1,1,1,1)   :  -5.+3.j, \n",
    "            (0,1,0,0,0,0)   :  -1.-7.j, \n",
    "            (0,1,0,0,0,1)   :  -1.-5.j, \n",
    "            (0,1,0,0,1,0)   :  -1.-1.j, \n",
    "            (0,1,0,0,1,1)   :  -1.-3.j, \n",
    "            (0,1,0,1,0,0)   :  -1.+7.j, \n",
    "            (0,1,0,1,0,1)   :  -1.+5.j, \n",
    "            (0,1,0,1,1,0)   :  -1.+1.j, \n",
    "            (0,1,0,1,1,1)   :  -1.+3.j, \n",
    "            (0,1,1,0,0,0)   :  -3.-7.j, \n",
    "            (0,1,1,0,0,1)   :  -3.-5.j, \n",
    "            (0,1,1,0,1,0)   :  -3.-1.j, \n",
    "            (0,1,1,0,1,1)   :  -3.-3.j, \n",
    "            (0,1,1,1,0,0)   :  -3.+7.j, \n",
    "            (0,1,1,1,0,1)   :  -3.+5.j, \n",
    "            (0,1,1,1,1,0)   :  -3.+1.j, \n",
    "            (0,1,1,1,1,1)   :  -3.+3.j, \n",
    "            (1,0,0,0,0,0)   :   7.-7.j, \n",
    "            (1,0,0,0,0,1)   :   7.-5.j, \n",
    "            (1,0,0,0,1,0)   :   7.-1.j, \n",
    "            (1,0,0,0,1,1)   :   7.-3.j, \n",
    "            (1,0,0,1,0,0)   :   7.+7.j, \n",
    "            (1,0,0,1,0,1)   :   7.+5.j, \n",
    "            (1,0,0,1,1,0)   :   7.+1.j, \n",
    "            (1,0,0,1,1,1)   :   7.+3.j, \n",
    "            (1,0,1,0,0,0)   :   5.-7.j, \n",
    "            (1,0,1,0,0,1)   :   5.-5.j, \n",
    "            (1,0,1,0,1,0)   :   5.-1.j, \n",
    "            (1,0,1,0,1,1)   :   5.-3.j, \n",
    "            (1,0,1,1,0,0)   :   5.+7.j, \n",
    "            (1,0,1,1,0,1)   :   5.+5.j, \n",
    "            (1,0,1,1,1,0)   :   5.+1.j, \n",
    "            (1,0,1,1,1,1)   :   5.+3.j, \n",
    "            (1,1,0,0,0,0)   :   1.-7.j, \n",
    "            (1,1,0,0,0,1)   :   1.-5.j, \n",
    "            (1,1,0,0,1,0)   :   1.-1.j, \n",
    "            (1,1,0,0,1,1)   :   1.-3.j, \n",
    "            (1,1,0,1,0,0)   :   1.+7.j, \n",
    "            (1,1,0,1,0,1)   :   1.+5.j, \n",
    "            (1,1,0,1,1,0)   :   1.+1.j, \n",
    "            (1,1,0,1,1,1)   :   1.+3.j, \n",
    "            (1,1,1,0,0,0)   :   3.-7.j, \n",
    "            (1,1,1,0,0,1)   :   3.-5.j, \n",
    "            (1,1,1,0,1,0)   :   3.-1.j, \n",
    "            (1,1,1,0,1,1)   :   3.-3.j, \n",
    "            (1,1,1,1,0,0)   :   3.+7.j, \n",
    "            (1,1,1,1,0,1)   :   3.+5.j, \n",
    "            (1,1,1,1,1,0)   :   3.+1.j, \n",
    "            (1,1,1,1,1,1)   :   3.+3.j\n",
    "        }\n",
    "    else:\n",
    "        mapping_table = None\n",
    "        \n",
    "    initial_value = np.array(list(mapping_table.values()),\n",
    "                            dtype= complex)\n",
    "    constellation = Constellation(\"custom\", num_bits_per_symbol = mu, initial_value=initial_value,\n",
    "                normalize=normalize, center=False, trainable=True)\n",
    "    if show_constellation:\n",
    "        constellation.show(figsize=(10, 10))\n",
    "    return constellation\n",
    "\n",
    "    \n",
    "    "
   ]
  },
  {
   "cell_type": "code",
   "execution_count": 46,
   "metadata": {},
   "outputs": [
    {
     "data": {
      "image/png": "[encoded data removed]",
      "text/plain": [
       "<Figure size 720x720 with 1 Axes>"
      ]
     },
     "metadata": {
      "needs_background": "light"
     },
     "output_type": "display_data"
    }
   ],
   "source": [
    "constellation = generate_ieee8211_constellation(6,True, True)\n",
    "\n"
   ]
  },
  {
   "cell_type": "code",
   "execution_count": 52,
   "metadata": {},
   "outputs": [
    {
     "ename": "AssertionError",
     "evalue": "num_bits_per_symbol must be a mutliple of 2",
     "output_type": "error",
     "traceback": [
      "\u001b[0;31m---------------------------------------------------------------------------\u001b[0m",
      "\u001b[0;31mAssertionError\u001b[0m                            Traceback (most recent call last)",
      "\u001b[1;32m/home/sheikh/Motius/Thesis/synch_signal_detection_dl/tools/sionna/examples/myTests/mapping.ipynb Cell 5\u001b[0m in \u001b[0;36m<cell line: 2>\u001b[0;34m()\u001b[0m\n\u001b[1;32m      <a href='vscode-notebook-cell:/home/sheikh/Motius/Thesis/synch_signal_detection_dl/tools/sionna/examples/myTests/mapping.ipynb#X12sZmlsZQ%3D%3D?line=0'>1</a>\u001b[0m mu \u001b[39m=\u001b[39m \u001b[39m2\u001b[39m\n\u001b[0;32m----> <a href='vscode-notebook-cell:/home/sheikh/Motius/Thesis/synch_signal_detection_dl/tools/sionna/examples/myTests/mapping.ipynb#X12sZmlsZQ%3D%3D?line=1'>2</a>\u001b[0m constellation \u001b[39m=\u001b[39m Constellation(\u001b[39m\"\u001b[39;49m\u001b[39mqam\u001b[39;49m\u001b[39m\"\u001b[39;49m, num_bits_per_symbol \u001b[39m=\u001b[39;49m \u001b[39m1\u001b[39;49m,\n\u001b[1;32m      <a href='vscode-notebook-cell:/home/sheikh/Motius/Thesis/synch_signal_detection_dl/tools/sionna/examples/myTests/mapping.ipynb#X12sZmlsZQ%3D%3D?line=2'>3</a>\u001b[0m             normalize\u001b[39m=\u001b[39;49m\u001b[39mFalse\u001b[39;49;00m, center\u001b[39m=\u001b[39;49m\u001b[39mFalse\u001b[39;49;00m, trainable\u001b[39m=\u001b[39;49m\u001b[39mTrue\u001b[39;49;00m)\n\u001b[1;32m      <a href='vscode-notebook-cell:/home/sheikh/Motius/Thesis/synch_signal_detection_dl/tools/sionna/examples/myTests/mapping.ipynb#X12sZmlsZQ%3D%3D?line=3'>4</a>\u001b[0m constellation\u001b[39m.\u001b[39mshow(figsize\u001b[39m=\u001b[39m(\u001b[39m10\u001b[39m, \u001b[39m10\u001b[39m))\n",
      "File \u001b[0;32m~/miniconda3/envs/funki_ap2_dl_ce/lib/python3.8/site-packages/sionna/mapping.py:256\u001b[0m, in \u001b[0;36mConstellation.__init__\u001b[0;34m(self, constellation_type, num_bits_per_symbol, initial_value, normalize, center, trainable, dtype, **kwargs)\u001b[0m\n\u001b[1;32m    251\u001b[0m \u001b[39massert\u001b[39;00m \u001b[39misinstance\u001b[39m(num_bits_per_symbol, \u001b[39mint\u001b[39m),\\\n\u001b[1;32m    252\u001b[0m     \u001b[39m\"\u001b[39m\u001b[39mnum_bits_per_symbol must be integer\u001b[39m\u001b[39m\"\u001b[39m\n\u001b[1;32m    255\u001b[0m \u001b[39mif\u001b[39;00m \u001b[39mself\u001b[39m\u001b[39m.\u001b[39m_constellation_type\u001b[39m==\u001b[39m\u001b[39m\"\u001b[39m\u001b[39mqam\u001b[39m\u001b[39m\"\u001b[39m:\n\u001b[0;32m--> 256\u001b[0m     \u001b[39massert\u001b[39;00m num_bits_per_symbol\u001b[39m%\u001b[39m\u001b[39m2\u001b[39m \u001b[39m==\u001b[39m \u001b[39m0\u001b[39m \u001b[39mand\u001b[39;00m num_bits_per_symbol\u001b[39m>\u001b[39m\u001b[39m0\u001b[39m,\\\n\u001b[1;32m    257\u001b[0m         \u001b[39m\"\u001b[39m\u001b[39mnum_bits_per_symbol must be a mutliple of 2\u001b[39m\u001b[39m\"\u001b[39m\n\u001b[1;32m    258\u001b[0m     \u001b[39mself\u001b[39m\u001b[39m.\u001b[39m_num_bits_per_symbol \u001b[39m=\u001b[39m \u001b[39mint\u001b[39m(num_bits_per_symbol)\n\u001b[1;32m    260\u001b[0m     \u001b[39massert\u001b[39;00m initial_value \u001b[39mis\u001b[39;00m \u001b[39mNone\u001b[39;00m, \u001b[39m\"\u001b[39m\u001b[39mQAM must not have an initial value\u001b[39m\u001b[39m\"\u001b[39m\n",
      "\u001b[0;31mAssertionError\u001b[0m: num_bits_per_symbol must be a mutliple of 2"
     ]
    }
   ],
   "source": [
    "mu = 2\n",
    "constellation = Constellation(\"qam\", num_bits_per_symbol = 1,\n",
    "            normalize=False, center=False, trainable=True)\n",
    "constellation.show(figsize=(10, 10))\n",
    "\n",
    "\n"
   ]
  },
  {
   "cell_type": "code",
   "execution_count": null,
   "metadata": {},
   "outputs": [],
   "source": []
  }
 ],
 "metadata": {
  "kernelspec": {
   "display_name": "funki_ap2_dl_ce",
   "language": "python",
   "name": "python3"
  },
  "language_info": {
   "codemirror_mode": {
    "name": "ipython",
    "version": 3
   },
   "file_extension": ".py",
   "mimetype": "text/x-python",
   "name": "python",
   "nbconvert_exporter": "python",
   "pygments_lexer": "ipython3",
   "version": "3.8.13"
  },
  "orig_nbformat": 4,
  "vscode": {
   "interpreter": {
    "hash": "e6023c49c801bba387708cda29628e2922933cdd2a1ef30ad644b307cb289967"
   }
  }
 },
 "nbformat": 4,
 "nbformat_minor": 2
}
