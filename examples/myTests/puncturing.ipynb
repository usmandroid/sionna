{
 "cells": [
  {
   "cell_type": "code",
   "execution_count": 1,
   "metadata": {},
   "outputs": [
    {
     "name": "stdout",
     "output_type": "stream",
     "text": [
      "/home/sheikh/Motius/Thesis/synch_signal_detection_dl/tools/sionna/examples/myTests\n"
     ]
    }
   ],
   "source": [
    "import matplotlib.pyplot as plt\n",
    "import numpy as np\n",
    "from multiprocessing.pool import Pool\n",
    "\n",
    "from collections import OrderedDict\n",
    "import sys\n",
    "import os\n",
    "print(os.getcwd())\n",
    "sys.path.insert(0, os.getcwd()+'/...') # +'/..'\n",
    "sys.path.insert(0, os.getcwd()+'/..') # +'/..'\n",
    "sys.path.insert(0, os.getcwd()+'/') # +'/..'\n",
    "from IPython.display import clear_output"
   ]
  },
  {
   "cell_type": "code",
   "execution_count": 40,
   "metadata": {},
   "outputs": [
    {
     "name": "stdout",
     "output_type": "stream",
     "text": [
      "WARNING:tensorflow:Tensor._shape is private, use Tensor.shape instead. Tensor._shape will eventually be removed.\n",
      "WARNING:tensorflow:Tensor._shape is private, use Tensor.shape instead. Tensor._shape will eventually be removed.\n",
      "WARNING:tensorflow:Tensor._shape is private, use Tensor.shape instead. Tensor._shape will eventually be removed.\n",
      "WARNING:tensorflow:Tensor._shape is private, use Tensor.shape instead. Tensor._shape will eventually be removed.\n",
      "WARNING:tensorflow:Tensor._shape is private, use Tensor.shape instead. Tensor._shape will eventually be removed.\n",
      "[1, 1, 1, 48]\n",
      "WARNING:tensorflow:Tensor._shape is private, use Tensor.shape instead. Tensor._shape will eventually be removed.\n",
      "WARNING:tensorflow:Tensor._shape is private, use Tensor.shape instead. Tensor._shape will eventually be removed.\n",
      "<tf.Variable 'ieee80211_puncturer_19/Variable:0' shape=(3, 3, 3) dtype=float64, numpy=\n",
      "array([[[0.32927615, 0.09217954, 0.66069694],\n",
      "        [0.18971189, 0.20090196, 0.90092036],\n",
      "        [0.16665378, 0.27839011, 0.81983945]],\n",
      "\n",
      "       [[0.37511749, 0.07575905, 0.49691476],\n",
      "        [0.0186322 , 0.35189747, 0.33036034],\n",
      "        [0.18501296, 0.96041919, 0.00854174]],\n",
      "\n",
      "       [[0.82652586, 0.9086641 , 0.38298798],\n",
      "        [0.47282102, 0.50266285, 0.74088155],\n",
      "        [0.3837641 , 0.72941429, 0.72968289]]])>\n",
      "<tf.Variable 'ieee80211_puncturer_19/Variable:0' shape=() dtype=float32, numpy=2.881828>\n",
      "<tf.Variable 'ieee80211_puncturer_19/Variable:0' shape=(3, 3, 3) dtype=float64, numpy=\n",
      "array([[[0.83533714, 0.95612562, 0.7204703 ],\n",
      "        [0.52104644, 0.07965491, 0.79836562],\n",
      "        [0.37687042, 0.24605883, 0.53429377]],\n",
      "\n",
      "       [[0.21899553, 0.28085621, 0.05070457],\n",
      "        [0.19338561, 0.48531953, 0.99027024],\n",
      "        [0.39350208, 0.55572679, 0.7665761 ]],\n",
      "\n",
      "       [[0.90906785, 0.15993833, 0.8161251 ],\n",
      "        [0.90694034, 0.14540515, 0.98085637],\n",
      "        [0.02020753, 0.93355691, 0.94458565]]])>\n",
      "<tf.Variable 'ieee80211_puncturer_19/Variable:0' shape=(3, 3, 3) dtype=float64, numpy=\n",
      "array([[[0.83533714, 0.95612562, 9.        ],\n",
      "        [0.52104644, 0.07965491, 2.        ],\n",
      "        [0.37687042, 0.24605883, 3.        ]],\n",
      "\n",
      "       [[0.21899553, 0.28085621, 3.        ],\n",
      "        [0.19338561, 0.48531953, 8.        ],\n",
      "        [0.39350208, 0.55572679, 4.        ]],\n",
      "\n",
      "       [[0.90906785, 0.15993833, 6.        ],\n",
      "        [0.90694034, 0.14540515, 7.        ],\n",
      "        [0.02020753, 0.93355691, 2.        ]]])>\n",
      "WARNING:tensorflow:Tensor._shape is private, use Tensor.shape instead. Tensor._shape will eventually be removed.\n"
     ]
    },
    {
     "name": "stderr",
     "output_type": "stream",
     "text": [
      "2023-01-31 04:57:56.947272: W tensorflow/core/framework/op_kernel.cc:1780] OP_REQUIRES failed at strided_slice_op.cc:105 : INVALID_ARGUMENT: Expected begin, end, and strides to be 1D equal size tensors, but got shapes [1,1,1,1,36], [1,1,1,1,36], and [1] instead.\n",
      "2023-01-31 04:59:57.839648: W tensorflow/core/framework/op_kernel.cc:1780] OP_REQUIRES failed at strided_slice_op.cc:105 : INVALID_ARGUMENT: Expected begin, end, and strides to be 1D equal size tensors, but got shapes [1,1,1,1,36], [1,1,1,1,36], and [1] instead.\n"
     ]
    },
    {
     "name": "stdout",
     "output_type": "stream",
     "text": [
      "WARNING:tensorflow:Tensor._shape is private, use Tensor.shape instead. Tensor._shape will eventually be removed.\n",
      "WARNING:tensorflow:Tensor._shape is private, use Tensor.shape instead. Tensor._shape will eventually be removed.\n"
     ]
    },
    {
     "ename": "InvalidArgumentError",
     "evalue": "Exception encountered when calling layer \"ieee80211_puncturer_19\" \"                 f\"(type IEEE80211Puncturer).\n\n{{function_node __wrapped__TensorScatterUpdate_device_/job:localhost/replica:0/task:0/device:CPU:0}} Inner dimensions of output shape must match inner dimensions of updates shape. Output: [1,1,1,48] updates: [1,1,1,36] [Op:TensorScatterUpdate]\n\nCall arguments received by layer \"ieee80211_puncturer_19\" \"                 f\"(type IEEE80211Puncturer):\n  • inputs=tf.Tensor(shape=(1, 1, 1, 36), dtype=int32)",
     "output_type": "error",
     "traceback": [
      "\u001b[0;31m---------------------------------------------------------------------------\u001b[0m",
      "\u001b[0;31mInvalidArgumentError\u001b[0m                      Traceback (most recent call last)",
      "\u001b[1;32m/home/sheikh/Motius/Thesis/synch_signal_detection_dl/tools/sionna/examples/myTests/puncturing.ipynb Cell 2\u001b[0m in \u001b[0;36m<cell line: 66>\u001b[0;34m()\u001b[0m\n\u001b[1;32m     <a href='vscode-notebook-cell:/home/sheikh/Motius/Thesis/synch_signal_detection_dl/tools/sionna/examples/myTests/puncturing.ipynb#W1sZmlsZQ%3D%3D?line=63'>64</a>\u001b[0m     s \u001b[39m=\u001b[39m tf\u001b[39m.\u001b[39mexpand_dims(s,\u001b[39m0\u001b[39m)\n\u001b[1;32m     <a href='vscode-notebook-cell:/home/sheikh/Motius/Thesis/synch_signal_detection_dl/tools/sionna/examples/myTests/puncturing.ipynb#W1sZmlsZQ%3D%3D?line=64'>65</a>\u001b[0m s_punct \u001b[39m=\u001b[39m puncturer(s)\n\u001b[0;32m---> <a href='vscode-notebook-cell:/home/sheikh/Motius/Thesis/synch_signal_detection_dl/tools/sionna/examples/myTests/puncturing.ipynb#W1sZmlsZQ%3D%3D?line=65'>66</a>\u001b[0m s_depunct \u001b[39m=\u001b[39m depuncturer(s_punct)\n",
      "File \u001b[0;32m~/miniconda3/envs/funki_ap2_dl_ce/lib/python3.8/site-packages/keras/utils/traceback_utils.py:70\u001b[0m, in \u001b[0;36mfilter_traceback.<locals>.error_handler\u001b[0;34m(*args, **kwargs)\u001b[0m\n\u001b[1;32m     67\u001b[0m     filtered_tb \u001b[39m=\u001b[39m _process_traceback_frames(e\u001b[39m.\u001b[39m__traceback__)\n\u001b[1;32m     68\u001b[0m     \u001b[39m# To get the full stack trace, call:\u001b[39;00m\n\u001b[1;32m     69\u001b[0m     \u001b[39m# `tf.debugging.disable_traceback_filtering()`\u001b[39;00m\n\u001b[0;32m---> 70\u001b[0m     \u001b[39mraise\u001b[39;00m e\u001b[39m.\u001b[39mwith_traceback(filtered_tb) \u001b[39mfrom\u001b[39;00m \u001b[39mNone\u001b[39m\n\u001b[1;32m     71\u001b[0m \u001b[39mfinally\u001b[39;00m:\n\u001b[1;32m     72\u001b[0m     \u001b[39mdel\u001b[39;00m filtered_tb\n",
      "\u001b[1;32m/home/sheikh/Motius/Thesis/synch_signal_detection_dl/tools/sionna/examples/myTests/puncturing.ipynb Cell 2\u001b[0m in \u001b[0;36mIEEE80211Puncturer.call\u001b[0;34m(self, inputs)\u001b[0m\n\u001b[1;32m     <a href='vscode-notebook-cell:/home/sheikh/Motius/Thesis/synch_signal_detection_dl/tools/sionna/examples/myTests/puncturing.ipynb#W1sZmlsZQ%3D%3D?line=49'>50</a>\u001b[0m     \u001b[39mprint\u001b[39m(new_shape)\n\u001b[1;32m     <a href='vscode-notebook-cell:/home/sheikh/Motius/Thesis/synch_signal_detection_dl/tools/sionna/examples/myTests/puncturing.ipynb#W1sZmlsZQ%3D%3D?line=50'>51</a>\u001b[0m     x_zeros \u001b[39m=\u001b[39m tf\u001b[39m.\u001b[39mzeros(new_shape, dtype \u001b[39m=\u001b[39m tf\u001b[39m.\u001b[39mint32)\n\u001b[0;32m---> <a href='vscode-notebook-cell:/home/sheikh/Motius/Thesis/synch_signal_detection_dl/tools/sionna/examples/myTests/puncturing.ipynb#W1sZmlsZQ%3D%3D?line=51'>52</a>\u001b[0m     x \u001b[39m=\u001b[39m tf\u001b[39m.\u001b[39;49mtensor_scatter_nd_update(x_zeros, \u001b[39mself\u001b[39;49m\u001b[39m.\u001b[39;49mpunct_indices, inputs)\n\u001b[1;32m     <a href='vscode-notebook-cell:/home/sheikh/Motius/Thesis/synch_signal_detection_dl/tools/sionna/examples/myTests/puncturing.ipynb#W1sZmlsZQ%3D%3D?line=53'>54</a>\u001b[0m \u001b[39melse\u001b[39;00m:\n\u001b[1;32m     <a href='vscode-notebook-cell:/home/sheikh/Motius/Thesis/synch_signal_detection_dl/tools/sionna/examples/myTests/puncturing.ipynb#W1sZmlsZQ%3D%3D?line=54'>55</a>\u001b[0m   x \u001b[39m=\u001b[39m tf\u001b[39m.\u001b[39mgather(inputs, \u001b[39mself\u001b[39m\u001b[39m.\u001b[39mpunct_indices, axis \u001b[39m=\u001b[39m \u001b[39m3\u001b[39m)\n",
      "\u001b[0;31mInvalidArgumentError\u001b[0m: Exception encountered when calling layer \"ieee80211_puncturer_19\" \"                 f\"(type IEEE80211Puncturer).\n\n{{function_node __wrapped__TensorScatterUpdate_device_/job:localhost/replica:0/task:0/device:CPU:0}} Inner dimensions of output shape must match inner dimensions of updates shape. Output: [1,1,1,48] updates: [1,1,1,36] [Op:TensorScatterUpdate]\n\nCall arguments received by layer \"ieee80211_puncturer_19\" \"                 f\"(type IEEE80211Puncturer):\n  • inputs=tf.Tensor(shape=(1, 1, 1, 36), dtype=int32)"
     ]
    }
   ],
   "source": [
    "import numpy as np\n",
    "import tensorflow as tf\n",
    "from tensorflow.keras.layers import Layer\n",
    "\n",
    "class IEEE80211Puncturer(Layer):\n",
    "    def __init__(self, \n",
    "                 coding_rate,\n",
    "                 inverse = False,\n",
    "                 dtype=tf.float32,\n",
    "                **kwargs):\n",
    "        self.coding_rate = coding_rate\n",
    "        self.inverse = inverse\n",
    "        if self.coding_rate == (2,3):\n",
    "            self.puncture_pattern = [1, 1, 1, 0]\n",
    "            self.punc_size = len(self.puncture_pattern)\n",
    "            self.punct_vec = [0,1,2]\n",
    "            self.depunct_vec = [3]\n",
    "            \n",
    "            \n",
    "        if self.coding_rate == (3,4):\n",
    "            self.puncture_pattern = [1, 1, 1, 0, 0, 1]\n",
    "            self.punc_size = len(self.puncture_pattern)\n",
    "            self.punct_vec = [0,1,2,5]\n",
    "            self.depunct_vec = [3, 4]\n",
    "        super().__init__(dtype=dtype, **kwargs)\n",
    "        \n",
    "        \n",
    "    def build(self, input_shape):\n",
    "        \n",
    "        batch_size = input_shape[0]\n",
    "        if self.inverse:\n",
    "            len = np.ceil(input_shape[-1] * self.coding_rate[0] / self.coding_rate[1] * 2).astype(int)\n",
    "        else:  \n",
    "            len = input_shape[-1]\n",
    "        multiples = len//self.punc_size\n",
    "        p = np.tile(self.punct_vec, (multiples,))\n",
    "        for ind in range(0,multiples):\n",
    "          p[ind*(self.punc_size-1): (ind+1)*(self.punc_size-1)] += ind*self.punc_size\n",
    "        \n",
    "        for ind in range(0,batch_size):\n",
    "            [ind, 0,0, p]\n",
    "        \n",
    "        self.punct_indices = p\n",
    "        \n",
    "            \n",
    "    def call(self, inputs):\n",
    "        \n",
    "         \n",
    "        if self.inverse:\n",
    "            new_size = np.ceil(inputs.shape[-1] * self.coding_rate[0] / self.coding_rate[1] * 2).astype(int)\n",
    "            \n",
    "            new_shape = [inputs.shape[0],1,1,new_size]\n",
    "            print(new_shape)\n",
    "            x_zeros = tf.zeros(new_shape, dtype = tf.int32)\n",
    "            x = tf.tensor_scatter_nd_update(x_zeros, self.punct_indices, inputs)\n",
    "        \n",
    "        else:\n",
    "          x = tf.gather(inputs, self.punct_indices, axis = 3)\n",
    "        \n",
    "        return x\n",
    "        \n",
    "        \n",
    "puncturer = IEEE80211Puncturer((2,3), inverse = False)\n",
    "depuncturer = IEEE80211Puncturer((2,3), inverse = True)\n",
    "s = tf.random.uniform([48,], minval=0, maxval=2, dtype=tf.int32)\n",
    "for i in range(0,3): \n",
    "    s = tf.expand_dims(s,0)\n",
    "s_punct = puncturer(s)\n",
    "s_depunct = depuncturer(s_punct)\n"
   ]
  },
  {
   "cell_type": "code",
   "execution_count": 32,
   "metadata": {},
   "outputs": [],
   "source": []
  },
  {
   "cell_type": "code",
   "execution_count": 33,
   "metadata": {},
   "outputs": [
    {
     "data": {
      "text/plain": [
       "<tf.Tensor: shape=(1, 1, 1, 48), dtype=int32, numpy=\n",
       "array([[[[1, 0, 0, 1, 0, 0, 0, 1, 0, 1, 0, 1, 1, 1, 1, 1, 1, 0, 0, 0,\n",
       "          1, 1, 0, 1, 0, 0, 0, 1, 1, 1, 1, 1, 0, 1, 1, 0, 1, 1, 0, 0,\n",
       "          0, 0, 1, 1, 0, 1, 1, 0]]]], dtype=int32)>"
      ]
     },
     "execution_count": 33,
     "metadata": {},
     "output_type": "execute_result"
    }
   ],
   "source": [
    "\n",
    "s\n",
    "s_punct = puncturer(s)\n",
    "s_punct"
   ]
  },
  {
   "cell_type": "code",
   "execution_count": 34,
   "metadata": {},
   "outputs": [
    {
     "data": {
      "text/plain": [
       "<tf.Tensor: shape=(1, 1, 1, 36), dtype=int32, numpy=\n",
       "array([[[[1, 0, 0, 1, 0, 0, 0, 0, 0, 0, 1, 0, 1, 1, 1, 1, 0, 0, 1, 0,\n",
       "          0, 1, 1, 0, 0, 0, 0, 0, 1, 1, 1, 1, 1, 0, 1, 1]]]], dtype=int32)>"
      ]
     },
     "execution_count": 34,
     "metadata": {},
     "output_type": "execute_result"
    }
   ],
   "source": [
    "s_punct = puncturer(s)\n",
    "s_punct"
   ]
  },
  {
   "cell_type": "code",
   "execution_count": 24,
   "metadata": {},
   "outputs": [
    {
     "ename": "TypeError",
     "evalue": "Exception encountered when calling layer \"ieee80211_puncturer_1\" \"                 f\"(type IEEE80211Puncturer).\n\nToo many arguments were given. Expected 3 but got 4.\n\nCall arguments received by layer \"ieee80211_puncturer_1\" \"                 f\"(type IEEE80211Puncturer):\n  • inputs=tf.Tensor(shape=(1, 1, 1, 36), dtype=int32)",
     "output_type": "error",
     "traceback": [
      "\u001b[0;31m---------------------------------------------------------------------------\u001b[0m",
      "\u001b[0;31mTypeError\u001b[0m                                 Traceback (most recent call last)",
      "\u001b[1;32m/home/sheikh/Motius/Thesis/synch_signal_detection_dl/tools/sionna/examples/myTests/puncturing.ipynb Cell 6\u001b[0m in \u001b[0;36m<cell line: 1>\u001b[0;34m()\u001b[0m\n\u001b[0;32m----> <a href='vscode-notebook-cell:/home/sheikh/Motius/Thesis/synch_signal_detection_dl/tools/sionna/examples/myTests/puncturing.ipynb#W5sZmlsZQ%3D%3D?line=0'>1</a>\u001b[0m s_depunct \u001b[39m=\u001b[39m depuncturer(s_punct)\n\u001b[1;32m      <a href='vscode-notebook-cell:/home/sheikh/Motius/Thesis/synch_signal_detection_dl/tools/sionna/examples/myTests/puncturing.ipynb#W5sZmlsZQ%3D%3D?line=1'>2</a>\u001b[0m s_depunct\n",
      "File \u001b[0;32m~/miniconda3/envs/funki_ap2_dl_ce/lib/python3.8/site-packages/keras/utils/traceback_utils.py:70\u001b[0m, in \u001b[0;36mfilter_traceback.<locals>.error_handler\u001b[0;34m(*args, **kwargs)\u001b[0m\n\u001b[1;32m     67\u001b[0m     filtered_tb \u001b[39m=\u001b[39m _process_traceback_frames(e\u001b[39m.\u001b[39m__traceback__)\n\u001b[1;32m     68\u001b[0m     \u001b[39m# To get the full stack trace, call:\u001b[39;00m\n\u001b[1;32m     69\u001b[0m     \u001b[39m# `tf.debugging.disable_traceback_filtering()`\u001b[39;00m\n\u001b[0;32m---> 70\u001b[0m     \u001b[39mraise\u001b[39;00m e\u001b[39m.\u001b[39mwith_traceback(filtered_tb) \u001b[39mfrom\u001b[39;00m \u001b[39mNone\u001b[39m\n\u001b[1;32m     71\u001b[0m \u001b[39mfinally\u001b[39;00m:\n\u001b[1;32m     72\u001b[0m     \u001b[39mdel\u001b[39;00m filtered_tb\n",
      "\u001b[1;32m/home/sheikh/Motius/Thesis/synch_signal_detection_dl/tools/sionna/examples/myTests/puncturing.ipynb Cell 6\u001b[0m in \u001b[0;36mIEEE80211Puncturer.call\u001b[0;34m(self, inputs)\u001b[0m\n\u001b[1;32m     <a href='vscode-notebook-cell:/home/sheikh/Motius/Thesis/synch_signal_detection_dl/tools/sionna/examples/myTests/puncturing.ipynb#W5sZmlsZQ%3D%3D?line=42'>43</a>\u001b[0m \u001b[39mif\u001b[39;00m \u001b[39mself\u001b[39m\u001b[39m.\u001b[39minverse:\n\u001b[1;32m     <a href='vscode-notebook-cell:/home/sheikh/Motius/Thesis/synch_signal_detection_dl/tools/sionna/examples/myTests/puncturing.ipynb#W5sZmlsZQ%3D%3D?line=43'>44</a>\u001b[0m     new_size \u001b[39m=\u001b[39m np\u001b[39m.\u001b[39mceil(inputs\u001b[39m.\u001b[39mshape[\u001b[39m-\u001b[39m\u001b[39m1\u001b[39m] \u001b[39m*\u001b[39m \u001b[39mself\u001b[39m\u001b[39m.\u001b[39mcoding_rate[\u001b[39m0\u001b[39m] \u001b[39m/\u001b[39m \u001b[39mself\u001b[39m\u001b[39m.\u001b[39mcoding_rate[\u001b[39m1\u001b[39m] \u001b[39m*\u001b[39m \u001b[39m2\u001b[39m)\u001b[39m.\u001b[39mastype(\u001b[39mint\u001b[39m)\n\u001b[0;32m---> <a href='vscode-notebook-cell:/home/sheikh/Motius/Thesis/synch_signal_detection_dl/tools/sionna/examples/myTests/puncturing.ipynb#W5sZmlsZQ%3D%3D?line=44'>45</a>\u001b[0m     x_zeros \u001b[39m=\u001b[39m tf\u001b[39m.\u001b[39;49mzeros(inputs\u001b[39m.\u001b[39;49mshape[\u001b[39m-\u001b[39;49m\u001b[39m1\u001b[39;49m],\u001b[39m1\u001b[39;49m,\u001b[39m1\u001b[39;49m,new_size, dtype \u001b[39m=\u001b[39;49m tf\u001b[39m.\u001b[39;49mint32)\n\u001b[1;32m     <a href='vscode-notebook-cell:/home/sheikh/Motius/Thesis/synch_signal_detection_dl/tools/sionna/examples/myTests/puncturing.ipynb#W5sZmlsZQ%3D%3D?line=45'>46</a>\u001b[0m     x \u001b[39m=\u001b[39m tf\u001b[39m.\u001b[39mtensor_scatter_nd_update(x_zeros, \u001b[39mself\u001b[39m\u001b[39m.\u001b[39mpunct_indices, inputs)\n\u001b[1;32m     <a href='vscode-notebook-cell:/home/sheikh/Motius/Thesis/synch_signal_detection_dl/tools/sionna/examples/myTests/puncturing.ipynb#W5sZmlsZQ%3D%3D?line=46'>47</a>\u001b[0m \u001b[39melse\u001b[39;00m:\n",
      "\u001b[0;31mTypeError\u001b[0m: Exception encountered when calling layer \"ieee80211_puncturer_1\" \"                 f\"(type IEEE80211Puncturer).\n\nToo many arguments were given. Expected 3 but got 4.\n\nCall arguments received by layer \"ieee80211_puncturer_1\" \"                 f\"(type IEEE80211Puncturer):\n  • inputs=tf.Tensor(shape=(1, 1, 1, 36), dtype=int32)"
     ]
    }
   ],
   "source": [
    "   \n",
    "s_depunct = depuncturer(s_punct)\n",
    "s_depunct"
   ]
  },
  {
   "cell_type": "code",
   "execution_count": null,
   "metadata": {},
   "outputs": [],
   "source": []
  }
 ],
 "metadata": {
  "kernelspec": {
   "display_name": "funki_ap2_dl_ce",
   "language": "python",
   "name": "python3"
  },
  "language_info": {
   "codemirror_mode": {
    "name": "ipython",
    "version": 3
   },
   "file_extension": ".py",
   "mimetype": "text/x-python",
   "name": "python",
   "nbconvert_exporter": "python",
   "pygments_lexer": "ipython3",
   "version": "3.8.13"
  },
  "orig_nbformat": 4,
  "vscode": {
   "interpreter": {
    "hash": "e6023c49c801bba387708cda29628e2922933cdd2a1ef30ad644b307cb289967"
   }
  }
 },
 "nbformat": 4,
 "nbformat_minor": 2
}
